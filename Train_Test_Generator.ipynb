{
 "cells": [
  {
   "cell_type": "markdown",
   "metadata": {},
   "source": [
    "# Load necessary packages"
   ]
  },
  {
   "cell_type": "code",
   "execution_count": 8,
   "metadata": {},
   "outputs": [],
   "source": [
    "#File management\n",
    "import os\n",
    "\n",
    "#CSV files\n",
    "import pandas as pd"
   ]
  },
  {
   "cell_type": "markdown",
   "metadata": {},
   "source": [
    "# Optional: load matplotlib for testing purposes"
   ]
  },
  {
   "cell_type": "code",
   "execution_count": 9,
   "metadata": {},
   "outputs": [],
   "source": [
    "import matplotlib.image as mpimg\n",
    "import matplotlib.pyplot as plt\n",
    "\n",
    "%matplotlib inline"
   ]
  },
  {
   "cell_type": "markdown",
   "metadata": {},
   "source": [
    "# Create a dictionary to change the method of determining Train/Test split\n",
    "\n",
    "\"method\" is determines the style to determine the test set\n",
    "- if \"method\" == \"gen\"\n",
    "    - \"num\" specifies which gen is the test set"
   ]
  },
  {
   "cell_type": "code",
   "execution_count": 10,
   "metadata": {},
   "outputs": [],
   "source": [
    "method = {}\n",
    "method[\"method\"] = \"gen\"\n",
    "#num indicates the test set generation\n",
    "method[\"num\"] = 5"
   ]
  },
  {
   "cell_type": "markdown",
   "metadata": {},
   "source": [
    "# Select which folders to gather train/test data from\n",
    "\n",
    "Can specify folders or default to all folders"
   ]
  },
  {
   "cell_type": "code",
   "execution_count": 11,
   "metadata": {},
   "outputs": [
    {
     "name": "stdout",
     "output_type": "stream",
     "text": [
      "Data folders to consider ::  ['rby', 'rby-back', 'gsc', 'gsc-back', 'rse', 'rse-back', 'dpp', 'dpp-back', 'bw', 'bw-back']\n"
     ]
    }
   ],
   "source": [
    "data_folder = os.path.join(os.getcwd(),\"data\")\n",
    "\n",
    "all_gen_folders = sorted([f for f in os.listdir(data_folder) if not f.startswith(\".\")])\n",
    "\n",
    "# !! ALTERNATIVE !!: replace all_gen_folders with specific folders\n",
    "# Comment out the following line to automatically add all images from the data folder\n",
    "all_gen_folders = [\"rby\",\"rby-back\",\"gsc\",\"gsc-back\",\"rse\",\"rse-back\",\"dpp\",\"dpp-back\",\"bw\", \"bw-back\"]\n",
    "\n",
    "print(\"Data folders to consider :: \", all_gen_folders)"
   ]
  },
  {
   "cell_type": "markdown",
   "metadata": {},
   "source": [
    "# Create \"Train.csv\" and \"Test.csv\"\n",
    "\n",
    "- Train_list and Test_list are lists of dictionaries, where each dictionary represents a row of data\n",
    "- After the lists are fully assembled, the lists are converted into panda dataframes for easy CSV conversion\n",
    "- The list+dictionary approach is done for SIGNIFICANTLY faster read/write times"
   ]
  },
  {
   "cell_type": "code",
   "execution_count": 12,
   "metadata": {},
   "outputs": [
    {
     "name": "stdout",
     "output_type": "stream",
     "text": [
      "Succesfully finished generating Train.csv and Test.csv\n"
     ]
    }
   ],
   "source": [
    "train_list = []\n",
    "test_list = []\n",
    "\n",
    "for folder in all_gen_folders:\n",
    "    gen_folder = os.path.join(data_folder, folder)\n",
    "    \n",
    "    #Read the master list csv file from each folder\n",
    "    gen_df = pd.read_csv(os.path.join(gen_folder, \"aa_masterlist.csv\"))\n",
    "    gen_list = gen_df.to_dict(orient=\"records\")\n",
    "    \n",
    "    #Use the \"gen\" criteria to determine train/test split\n",
    "    if(method[\"method\"] == \"gen\"):\n",
    "        #Gen numbers represent the bounds of the pokedex numbers (check bulbapedia, ya nerd)\n",
    "        num = method[\"num\"]\n",
    "        #Note: bounds are inclusive\n",
    "        if num == 1:\n",
    "            min_bnd = 1\n",
    "            max_bnd = 151\n",
    "            \n",
    "        elif num == 2:\n",
    "            min_bnd = 152\n",
    "            max_bnd = 251\n",
    "            \n",
    "        elif num == 3:\n",
    "            min_bnd = 252\n",
    "            max_bnd = 386\n",
    "            \n",
    "        elif num == 4:\n",
    "            min_bnd = 387\n",
    "            max_bnd = 493\n",
    "            \n",
    "        elif num == 5:\n",
    "            min_bnd = 494\n",
    "            max_bnd = 649\n",
    "            \n",
    "        elif num == 6:\n",
    "            min_bnd = 650\n",
    "            max_bnd = 721\n",
    "            \n",
    "        elif num == 7:\n",
    "            min_bnd = 722\n",
    "            max_bnd = 809\n",
    "            \n",
    "        else:\n",
    "            print(\"This generation doesn't exist at the time of the creation of this code\")\n",
    "            print(\"Please manually add the generation index to the if/else case\")\n",
    "            raise ValueError(\"The Generation doesn't exist\")\n",
    "            \n",
    "        \n",
    "        #Add the dictionary row element to the appropriate list (train or test)\n",
    "        for i in range(0, len(gen_list)):\n",
    "            #\n",
    "            #!NOTE!: Pokemon name is replaced with the file location\n",
    "            #\n",
    "            gen_list[i][\"pokemon\"] = os.path.join(gen_folder, gen_list[i][\"pokemon\"])\n",
    "            dex_num = gen_list[i][\"dex_number\"]\n",
    "            \n",
    "            if dex_num >= min_bnd and dex_num <= max_bnd:\n",
    "                test_list.append(gen_list[i])\n",
    "            else:\n",
    "                train_list.append(gen_list[i])\n",
    "\n",
    "#Convert the lists into pandas dataframes, and then write to the /data folder\n",
    "train_df = pd.DataFrame(train_list, columns=list(gen_df))\n",
    "train_df.sort_values(\"dex_number\", inplace = True, ascending = True)\n",
    "write_train = train_df.to_csv(os.path.join(data_folder, \"Train.csv\"), encoding=\"utf-8\", index=False)\n",
    "\n",
    "test_df = pd.DataFrame(test_list, columns=list(gen_df))\n",
    "test_df.sort_values(\"dex_number\", inplace = True, ascending = True)\n",
    "write_test = test_df.to_csv(os.path.join(data_folder, \"Test.csv\"), encoding=\"utf-8\", index=False)\n",
    "\n",
    "print(\"Succesfully finished generating Train.csv and Test.csv\")"
   ]
  },
  {
   "cell_type": "markdown",
   "metadata": {},
   "source": [
    "# Test if the CSV files load all images properly"
   ]
  },
  {
   "cell_type": "code",
   "execution_count": 13,
   "metadata": {},
   "outputs": [
    {
     "name": "stdout",
     "output_type": "stream",
     "text": [
      "Train .csv has no problems!\n",
      "Test .csv has no problems!\n"
     ]
    },
    {
     "data": {
      "text/plain": [
       "0"
      ]
     },
     "execution_count": 13,
     "metadata": {},
     "output_type": "execute_result"
    }
   ],
   "source": [
    "def checkCSV(df,str_name):\n",
    "    numProbs = 0\n",
    "    \n",
    "    for i in range(len(df)):\n",
    "        try:\n",
    "            img = mpimg.imread(df[\"pokemon\"].iloc[i])\n",
    "            if(img.ndim != 3):\n",
    "                numProbs = numProbs + 1\n",
    "                print(df[\"pokemon\"].iloc[i], \" is not 3-dimensional (could be grayscale) image in \", str_name, \".csv\")\n",
    "            elif(img.shape[2] != 3):\n",
    "                numProbs = numProbs + 1\n",
    "                print(df[\"pokemon\"].iloc[i], \" is not a 3-channel/RBY  image in  \", str_name, \".csv\")\n",
    "        except:\n",
    "            numProbs = numProbs+1\n",
    "            print(df[\"pokemon\"].iloc[i], \" is an improperly functioning path string in \", str_name, \".csv\")\n",
    "\n",
    "    if(numProbs == 0):\n",
    "        print(str_name,\".csv has no problems!\")\n",
    "    else:\n",
    "        print(\"Please fix the indicated images in \", str_name, \".csv\")\n",
    "        print(\"There are \", numProbs, \" issues\")\n",
    "        \n",
    "    return numProbs\n",
    "\n",
    "\n",
    "train_df = pd.read_csv(os.path.join(data_folder, \"Train.csv\"))\n",
    "test_df = pd.read_csv(os.path.join(data_folder, \"Test.csv\"))\n",
    "\n",
    "checkCSV(train_df, \"Train\")\n",
    "checkCSV(test_df,  \"Test\")\n",
    "\n"
   ]
  },
  {
   "cell_type": "markdown",
   "metadata": {},
   "source": [
    "# Garbage Code below! Do not run :)"
   ]
  },
  {
   "cell_type": "code",
   "execution_count": 30,
   "metadata": {},
   "outputs": [
    {
     "name": "stdout",
     "output_type": "stream",
     "text": [
      "            pokemon  dex_number  normal  fighting  flying  poison  ground  \\\n",
      "0     bulbasaur.png           1       0         0       0       1       0   \n",
      "1       ivysaur.png           2       0         0       0       1       0   \n",
      "2      venusaur.png           3       0         0       0       1       0   \n",
      "3    charmander.png           4       0         0       0       0       0   \n",
      "4    charmeleon.png           5       0         0       0       0       0   \n",
      "5     charizard.png           6       0         0       1       0       0   \n",
      "6      squirtle.png           7       0         0       0       0       0   \n",
      "7     wartortle.png           8       0         0       0       0       0   \n",
      "8     blastoise.png           9       0         0       0       0       0   \n",
      "9      caterpie.png          10       0         0       0       0       0   \n",
      "10      metapod.png          11       0         0       0       0       0   \n",
      "11   butterfree.png          12       0         0       1       0       0   \n",
      "12       weedle.png          13       0         0       0       1       0   \n",
      "13       kakuna.png          14       0         0       0       1       0   \n",
      "14     beedrill.png          15       0         0       0       1       0   \n",
      "15       pidgey.png          16       1         0       1       0       0   \n",
      "16    pidgeotto.png          17       1         0       1       0       0   \n",
      "17      pidgeot.png          18       1         0       1       0       0   \n",
      "18      rattata.png          19       1         0       0       0       0   \n",
      "19     raticate.png          20       1         0       0       0       0   \n",
      "20      spearow.png          21       1         0       1       0       0   \n",
      "21       fearow.png          22       1         0       1       0       0   \n",
      "22        ekans.png          23       0         0       0       1       0   \n",
      "23        arbok.png          24       0         0       0       1       0   \n",
      "24      pikachu.png          25       0         0       0       0       0   \n",
      "25       raichu.png          26       0         0       0       0       0   \n",
      "26    sandshrew.png          27       0         0       0       0       1   \n",
      "27    sandslash.png          28       0         0       0       0       1   \n",
      "28     nidoranf.png          29       0         0       0       1       0   \n",
      "29     nidorina.png          30       0         0       0       1       0   \n",
      "..              ...         ...     ...       ...     ...     ...     ...   \n",
      "121      mrmime.png         122       0         0       0       0       0   \n",
      "122     scyther.png         123       0         0       1       0       0   \n",
      "123        jynx.png         124       0         0       0       0       0   \n",
      "124  electabuzz.png         125       0         0       0       0       0   \n",
      "125      magmar.png         126       0         0       0       0       0   \n",
      "126      pinsir.png         127       0         0       0       0       0   \n",
      "127      tauros.png         128       1         0       0       0       0   \n",
      "128    magikarp.png         129       0         0       0       0       0   \n",
      "129    gyarados.png         130       0         0       1       0       0   \n",
      "130      lapras.png         131       0         0       0       0       0   \n",
      "131       ditto.png         132       1         0       0       0       0   \n",
      "132       eevee.png         133       1         0       0       0       0   \n",
      "133    vaporeon.png         134       0         0       0       0       0   \n",
      "134     jolteon.png         135       0         0       0       0       0   \n",
      "135     flareon.png         136       0         0       0       0       0   \n",
      "136     porygon.png         137       1         0       0       0       0   \n",
      "137     omanyte.png         138       0         0       0       0       0   \n",
      "138     omastar.png         139       0         0       0       0       0   \n",
      "139      kabuto.png         140       0         0       0       0       0   \n",
      "140    kabutops.png         141       0         0       0       0       0   \n",
      "141  aerodactyl.png         142       0         0       1       0       0   \n",
      "142     snorlax.png         143       1         0       0       0       0   \n",
      "143    articuno.png         144       0         0       1       0       0   \n",
      "144      zapdos.png         145       0         0       1       0       0   \n",
      "145     moltres.png         146       0         0       1       0       0   \n",
      "146     dratini.png         147       0         0       0       0       0   \n",
      "147   dragonair.png         148       0         0       0       0       0   \n",
      "148   dragonite.png         149       0         0       1       0       0   \n",
      "149      mewtwo.png         150       0         0       0       0       0   \n",
      "150         mew.png         151       0         0       0       0       0   \n",
      "\n",
      "     rock  bug  ghost  steel  fire  water  grass  electric  psychic  ice  \\\n",
      "0       0    0      0      0     0      0      1         0        0    0   \n",
      "1       0    0      0      0     0      0      1         0        0    0   \n",
      "2       0    0      0      0     0      0      1         0        0    0   \n",
      "3       0    0      0      0     1      0      0         0        0    0   \n",
      "4       0    0      0      0     1      0      0         0        0    0   \n",
      "5       0    0      0      0     1      0      0         0        0    0   \n",
      "6       0    0      0      0     0      1      0         0        0    0   \n",
      "7       0    0      0      0     0      1      0         0        0    0   \n",
      "8       0    0      0      0     0      1      0         0        0    0   \n",
      "9       0    1      0      0     0      0      0         0        0    0   \n",
      "10      0    1      0      0     0      0      0         0        0    0   \n",
      "11      0    1      0      0     0      0      0         0        0    0   \n",
      "12      0    1      0      0     0      0      0         0        0    0   \n",
      "13      0    1      0      0     0      0      0         0        0    0   \n",
      "14      0    1      0      0     0      0      0         0        0    0   \n",
      "15      0    0      0      0     0      0      0         0        0    0   \n",
      "16      0    0      0      0     0      0      0         0        0    0   \n",
      "17      0    0      0      0     0      0      0         0        0    0   \n",
      "18      0    0      0      0     0      0      0         0        0    0   \n",
      "19      0    0      0      0     0      0      0         0        0    0   \n",
      "20      0    0      0      0     0      0      0         0        0    0   \n",
      "21      0    0      0      0     0      0      0         0        0    0   \n",
      "22      0    0      0      0     0      0      0         0        0    0   \n",
      "23      0    0      0      0     0      0      0         0        0    0   \n",
      "24      0    0      0      0     0      0      0         1        0    0   \n",
      "25      0    0      0      0     0      0      0         1        0    0   \n",
      "26      0    0      0      0     0      0      0         0        0    0   \n",
      "27      0    0      0      0     0      0      0         0        0    0   \n",
      "28      0    0      0      0     0      0      0         0        0    0   \n",
      "29      0    0      0      0     0      0      0         0        0    0   \n",
      "..    ...  ...    ...    ...   ...    ...    ...       ...      ...  ...   \n",
      "121     0    0      0      0     0      0      0         0        1    0   \n",
      "122     0    1      0      0     0      0      0         0        0    0   \n",
      "123     0    0      0      0     0      0      0         0        1    1   \n",
      "124     0    0      0      0     0      0      0         1        0    0   \n",
      "125     0    0      0      0     1      0      0         0        0    0   \n",
      "126     0    1      0      0     0      0      0         0        0    0   \n",
      "127     0    0      0      0     0      0      0         0        0    0   \n",
      "128     0    0      0      0     0      1      0         0        0    0   \n",
      "129     0    0      0      0     0      1      0         0        0    0   \n",
      "130     0    0      0      0     0      1      0         0        0    1   \n",
      "131     0    0      0      0     0      0      0         0        0    0   \n",
      "132     0    0      0      0     0      0      0         0        0    0   \n",
      "133     0    0      0      0     0      1      0         0        0    0   \n",
      "134     0    0      0      0     0      0      0         1        0    0   \n",
      "135     0    0      0      0     1      0      0         0        0    0   \n",
      "136     0    0      0      0     0      0      0         0        0    0   \n",
      "137     1    0      0      0     0      1      0         0        0    0   \n",
      "138     1    0      0      0     0      1      0         0        0    0   \n",
      "139     1    0      0      0     0      1      0         0        0    0   \n",
      "140     1    0      0      0     0      1      0         0        0    0   \n",
      "141     1    0      0      0     0      0      0         0        0    0   \n",
      "142     0    0      0      0     0      0      0         0        0    0   \n",
      "143     0    0      0      0     0      0      0         0        0    1   \n",
      "144     0    0      0      0     0      0      0         1        0    0   \n",
      "145     0    0      0      0     1      0      0         0        0    0   \n",
      "146     0    0      0      0     0      0      0         0        0    0   \n",
      "147     0    0      0      0     0      0      0         0        0    0   \n",
      "148     0    0      0      0     0      0      0         0        0    0   \n",
      "149     0    0      0      0     0      0      0         0        1    0   \n",
      "150     0    0      0      0     0      0      0         0        1    0   \n",
      "\n",
      "     dragon  dark  fairy  \n",
      "0         0     0      0  \n",
      "1         0     0      0  \n",
      "2         0     0      0  \n",
      "3         0     0      0  \n",
      "4         0     0      0  \n",
      "5         0     0      0  \n",
      "6         0     0      0  \n",
      "7         0     0      0  \n",
      "8         0     0      0  \n",
      "9         0     0      0  \n",
      "10        0     0      0  \n",
      "11        0     0      0  \n",
      "12        0     0      0  \n",
      "13        0     0      0  \n",
      "14        0     0      0  \n",
      "15        0     0      0  \n",
      "16        0     0      0  \n",
      "17        0     0      0  \n",
      "18        0     0      0  \n",
      "19        0     0      0  \n",
      "20        0     0      0  \n",
      "21        0     0      0  \n",
      "22        0     0      0  \n",
      "23        0     0      0  \n",
      "24        0     0      0  \n",
      "25        0     0      0  \n",
      "26        0     0      0  \n",
      "27        0     0      0  \n",
      "28        0     0      0  \n",
      "29        0     0      0  \n",
      "..      ...   ...    ...  \n",
      "121       0     0      1  \n",
      "122       0     0      0  \n",
      "123       0     0      0  \n",
      "124       0     0      0  \n",
      "125       0     0      0  \n",
      "126       0     0      0  \n",
      "127       0     0      0  \n",
      "128       0     0      0  \n",
      "129       0     0      0  \n",
      "130       0     0      0  \n",
      "131       0     0      0  \n",
      "132       0     0      0  \n",
      "133       0     0      0  \n",
      "134       0     0      0  \n",
      "135       0     0      0  \n",
      "136       0     0      0  \n",
      "137       0     0      0  \n",
      "138       0     0      0  \n",
      "139       0     0      0  \n",
      "140       0     0      0  \n",
      "141       0     0      0  \n",
      "142       0     0      0  \n",
      "143       0     0      0  \n",
      "144       0     0      0  \n",
      "145       0     0      0  \n",
      "146       1     0      0  \n",
      "147       1     0      0  \n",
      "148       1     0      0  \n",
      "149       0     0      0  \n",
      "150       0     0      0  \n",
      "\n",
      "[151 rows x 20 columns]\n",
      "['pokemon', 'dex_number', 'normal', 'fighting', 'flying', 'poison', 'ground', 'rock', 'bug', 'ghost', 'steel', 'fire', 'water', 'grass', 'electric', 'psychic', 'ice', 'dragon', 'dark', 'fairy']\n"
     ]
    }
   ],
   "source": [
    "print(gen_df)\n",
    "print(list(gen_df))"
   ]
  },
  {
   "cell_type": "code",
   "execution_count": null,
   "metadata": {},
   "outputs": [],
   "source": []
  }
 ],
 "metadata": {
  "kernelspec": {
   "display_name": "Python 3",
   "language": "python",
   "name": "python3"
  },
  "language_info": {
   "codemirror_mode": {
    "name": "ipython",
    "version": 3
   },
   "file_extension": ".py",
   "mimetype": "text/x-python",
   "name": "python",
   "nbconvert_exporter": "python",
   "pygments_lexer": "ipython3",
   "version": "3.7.3"
  }
 },
 "nbformat": 4,
 "nbformat_minor": 2
}
