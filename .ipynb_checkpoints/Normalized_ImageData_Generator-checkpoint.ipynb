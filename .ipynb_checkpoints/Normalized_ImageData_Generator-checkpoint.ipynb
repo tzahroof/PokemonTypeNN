{
 "cells": [
  {
   "cell_type": "markdown",
   "metadata": {},
   "source": [
    "# Import the necessary packages for images, files, JSONs, and CSVs"
   ]
  },
  {
   "cell_type": "code",
   "execution_count": 2,
   "metadata": {},
   "outputs": [],
   "source": [
    "#Image reading, writing, and plotting\n",
    "import matplotlib.image as mpimg\n",
    "import matplotlib.pyplot as plt\n",
    "from skimage import io\n",
    "from skimage import img_as_ubyte\n",
    "from PIL import Image\n",
    "\n",
    "#numpy\n",
    "import numpy as np\n",
    "\n",
    "#File management\n",
    "import os\n",
    "\n",
    "#JSON and CSV files\n",
    "import json\n",
    "import pandas as pd\n",
    "import csv\n",
    "\n",
    "#import hemagso's data cleaner\n",
    "from utility.preprocessing import center_and_resize, pure_pil_alpha_to_color\n",
    "\n",
    "\n",
    "%matplotlib inline"
   ]
  },
  {
   "cell_type": "markdown",
   "metadata": {},
   "source": [
    "# Select which folders to convert (or all of them)"
   ]
  },
  {
   "cell_type": "code",
   "execution_count": 2,
   "metadata": {},
   "outputs": [
    {
     "name": "stdout",
     "output_type": "stream",
     "text": [
      "folders to convert ::  ['bw-back']\n"
     ]
    }
   ],
   "source": [
    "sprites_folder = os.path.join(os.getcwd(),\"sprites\")\n",
    "data_folder = os.path.join(os.getcwd(), \"data\")\n",
    "\n",
    "#Automatically converts every single folder\n",
    "all_gen_folders = sorted([f for f in os.listdir(sprites_folder) if not f.startswith(\".\")])\n",
    "\n",
    "# !! ALTERNATIVE !!:\n",
    "#Uncomment the below to only convert the folders from \"sprites\" that are not already in the \"data\" folder\n",
    "in_data_gens_folders = sorted([f for f in os.listdir(data_folder) if (not f.startswith(\".\") and \n",
    "                              os.path.isdir(os.path.join(data_folder, f)))])\n",
    "\n",
    "all_gen_folders = list(set(all_gen_folders).difference(in_data_gens_folders))\n",
    "\n",
    "# !! ALTERNATIVE !!: \n",
    "# Uncomment the below line to automatically convert only the specified folders\n",
    "all_gen_folders = [\"rby\"]\n",
    "\n",
    "print(\"folders to convert :: \",all_gen_folders)"
   ]
  },
  {
   "cell_type": "markdown",
   "metadata": {},
   "source": [
    "# Load Pokedex (JSON file)"
   ]
  },
  {
   "cell_type": "code",
   "execution_count": 3,
   "metadata": {},
   "outputs": [],
   "source": [
    "with open(\"pokedex.json\") as xyz:\n",
    "    pokedex = json.load(xyz)"
   ]
  },
  {
   "cell_type": "markdown",
   "metadata": {},
   "source": [
    "# Convert the files and create a Master List CSV file (for creating train/test sets)\n",
    "\n",
    "- CSV file named: \"aa_masterlist.csv\"\n",
    "- Uses hemagso's conversion code (github located here: https://github.com/hemagso/neuralmon/blob/master/utility/preprocessing.py)\n",
    "        - NOTE: I removed hemagso's bounding box catch. It gives problems for weird reasons, sometimes. I think the intent is fine, but the execution was problematic\n",
    "- !!Warning!!: If a sprite is smaller than the Bounding Box (64x64), then the images won't be converted :("
   ]
  },
  {
   "cell_type": "code",
   "execution_count": 4,
   "metadata": {},
   "outputs": [
    {
     "name": "stdout",
     "output_type": "stream",
     "text": [
      "sprites_gen_folder ::  /home/tariq/PokemonTypeNN/sprites/bw-back\n",
      "Successfully created the directory /home/tariq/PokemonTypeNN/data/bw-back in <data> \n"
     ]
    },
    {
     "name": "stderr",
     "output_type": "stream",
     "text": [
      "/home/tariq/anaconda3/envs/pokemon/lib/python3.7/site-packages/skimage/util/dtype.py:135: UserWarning: Possible precision loss when converting from float64 to uint8\n",
      "  .format(dtypeobj_in, dtypeobj_out))\n"
     ]
    },
    {
     "name": "stdout",
     "output_type": "stream",
     "text": [
      "Completed generating images from folder::  bw-back\n"
     ]
    }
   ],
   "source": [
    "#\n",
    "# Initial column names (and their corresponding initial values) for the CSV file\n",
    "#\n",
    "row_keys = [\"pokemon\",\"dex_number\",\"normal\",\"fighting\",\"flying\",\"poison\",\"ground\",\n",
    "        \"rock\",\"bug\",\"ghost\",\"steel\",\"fire\",\n",
    "        \"water\",\"grass\",\"electric\",\"psychic\",\"ice\",\"dragon\",\"dark\",\"fairy\"]\n",
    "row_vals = [\"\"]+[0]*(len(row_keys)-1)\n",
    "\n",
    "\n",
    "for gen_folder in all_gen_folders:\n",
    "    sprites_gen_folder = os.path.join(sprites_folder, gen_folder)\n",
    "    data_gen_folder    = os.path.join(data_folder,    gen_folder)\n",
    "    print(\"sprites_gen_folder :: \", sprites_gen_folder)\n",
    "    \n",
    "    #\n",
    "    #If the folder (e.g. bw) does not exist in data, create it!\n",
    "    #\n",
    "    if(not os.path.exists(data_gen_folder)):\n",
    "        try:\n",
    "            os.mkdir(data_gen_folder)\n",
    "        except OSError:\n",
    "            print(\"Creation of the directory %s in <data> failed\" %data_gen_folder)\n",
    "        else:\n",
    "            print(\"Successfully created the directory %s in <data> \"%data_gen_folder)\n",
    "    #\n",
    "    #ensure that only png files are being added\n",
    "    #\n",
    "    pkm_img_list = [pkm for pkm in os.listdir(sprites_gen_folder) if pkm.endswith(\".png\")]\n",
    "    #print(pkm_img_list)\n",
    "    \n",
    "    #\n",
    "    # Create csv list (has rows of Pokemon, num, and [types]). Each row is a dictionary.\n",
    "    #\n",
    "    csv_list = []\n",
    "    \n",
    "    for pkm_img_string in pkm_img_list:\n",
    "        sprites_pkm_loc = os.path.join(sprites_gen_folder,pkm_img_string)\n",
    "        data_pkm_loc = os.path.join(data_gen_folder, pkm_img_string)\n",
    "        \n",
    "        pkm_string = pkm_img_string[0:pkm_img_string.index(\".png\")]\n",
    "#         print(\"is \", pkm_string, \" in the pokedex? \", pkm_string in pokedex)\n",
    "#         print(\"does the pokemon have a type? \", \"types\" in pokedex[pkm_string])\n",
    "#         print(\"does the pokemon have a number? \", \"num\" in pokedex[pkm_string])\n",
    "#         print(pokedex[pkm_string][\"types\"])\n",
    "        \n",
    "        if pkm_string in pokedex:\n",
    "            if \"types\" in pokedex[pkm_string] and \"num\" in pokedex[pkm_string]:\n",
    "                #checks to ensure that the sprite isn't a fanmade pokemon\n",
    "                if pokedex[pkm_string][\"num\"] > 0:\n",
    "                    #\n",
    "                    # Normalize the pokemon image, transform to RGB, and then save it!\n",
    "                    #\n",
    "                    \n",
    "                    #Load the Pokemon image and then normalize it\n",
    "                    old_pkm_image = io.imread(sprites_pkm_loc)\n",
    "                    try:\n",
    "                        pkm_image = center_and_resize(old_pkm_image)\n",
    "                    except:\n",
    "                        print(\"Couldn't convert \", pkm_string, \" in folder \", gen_folder)\n",
    "                        print(\"Exiting program. :(\")\n",
    "                        raise ValueError\n",
    "                    \n",
    "                    #Use custom RGBA -> RGB method \n",
    "                    pkm_image = Image.fromarray(pkm_image)\n",
    "                    pkm_image = pure_pil_alpha_to_color(pkm_image)\n",
    "                    \n",
    "                    #Save the Pokemon image\n",
    "                    # (note): img_as_ubyte normalizes the image to suppress an skimage warning\n",
    "                    pkm_image.save(data_pkm_loc)\n",
    "\n",
    "                    \n",
    "                    \n",
    "                    \n",
    "                    #\n",
    "                    # Create a new row entry for the csv list\n",
    "                    #\n",
    "\n",
    "                    #Create a dictionary for the row\n",
    "                    row_dict = dict(zip(row_keys, row_vals))\n",
    "\n",
    "                    row_dict[\"pokemon\"] = pkm_img_string\n",
    "                    row_dict[\"dex_number\"] = pokedex[pkm_string][\"num\"]\n",
    "\n",
    "                    #Goes through the types (from the pokedex) and sets the corresponding column val in \n",
    "                    #the row to 1 (e.g. the fire type column is set to 1 for Magby)\n",
    "                    for pkm_type in (t.lower() for t in pokedex[pkm_string][\"types\"]):\n",
    "                            row_dict[pkm_type] = 1\n",
    "\n",
    "                    #Append the row to the csv_list\n",
    "                    csv_list.append(row_dict)\n",
    "\n",
    "    #\n",
    "    # Create pandas frame to write into csv file\n",
    "    #\n",
    "    df = pd.DataFrame(csv_list,columns=row_keys)\n",
    "    df.sort_values(\"dex_number\", inplace=True, ascending=True)\n",
    "    #print(df)\n",
    "    writeable_df = df.to_csv(os.path.join(data_gen_folder,\"aa_masterlist.csv\"),encoding=\"utf-8\",index=False)\n",
    "    print(\"Completed generating images from folder:: \", gen_folder)"
   ]
  },
  {
   "cell_type": "markdown",
   "metadata": {},
   "source": [
    "# Garbage Code below. Do not run! :)"
   ]
  },
  {
   "cell_type": "code",
   "execution_count": 16,
   "metadata": {},
   "outputs": [
    {
     "name": "stdout",
     "output_type": "stream",
     "text": [
      "(96, 96, 4)\n",
      "<PIL.Image.Image image mode=RGBA size=96x96 at 0x7F91FD6ABFD0>\n",
      "<PIL.Image.Image image mode=RGB size=96x96 at 0x7F91FD6D8978>\n",
      "(96, 96, 3)\n"
     ]
    },
    {
     "data": {
      "image/png": "[encoded data removed]",
      "text/plain": [
       "<Figure size 432x288 with 1 Axes>"
      ]
     },
     "metadata": {
      "needs_background": "light"
     },
     "output_type": "display_data"
    }
   ],
   "source": [
    "test_pkm_loc = os.path.join(os.getcwd(), \"sprites\",\"rby\",\"charmander.png\")\n",
    "test_im = io.imread(test_pkm_loc)\n",
    "print(test_im.shape)\n",
    "plt.imshow(test_im)\n",
    "\n",
    "def pure_pil_alpha_to_color(image, color=(255, 255, 255)):\n",
    "    image.load()\n",
    "    background = Image.new(\"RGB\", image.size, color)\n",
    "    background.paste(image, mask=image.split()[3]) # 3 is the alpha channel\n",
    "    return background\n",
    "\n",
    "PIL_im = Image.fromarray(test_im)\n",
    "print(PIL_im)\n",
    "PIL_im = pure_pil_alpha_to_color(PIL_im)\n",
    "print(PIL_im)\n",
    "plt.imshow(test_im)\n",
    "\n",
    "PIL_im.save(os.path.join(os.getcwd(),\"charmander.png\"))\n",
    "\n",
    "new_test_im = io.imread(os.path.join(os.getcwd(),\"charmander.png\"))\n",
    "print(new_test_im.shape)\n",
    "\n"
   ]
  },
  {
   "cell_type": "code",
   "execution_count": 74,
   "metadata": {},
   "outputs": [
    {
     "name": "stdout",
     "output_type": "stream",
     "text": [
      "          pokemon  dex_number  normal  fighting  flying  poison  ground  rock  \\\n",
      "0       bulbasaur           1       0         0       0       1       0     0   \n",
      "1         ivysaur           2       0         0       0       1       0     0   \n",
      "2        venusaur           3       0         0       0       1       0     0   \n",
      "3    venusaurmega           3       0         0       0       1       0     0   \n",
      "4      charmander           4       0         0       0       0       0     0   \n",
      "5      charmeleon           5       0         0       0       0       0     0   \n",
      "6       charizard           6       0         0       1       0       0     0   \n",
      "7  charizardmegax           6       0         0       0       0       0     0   \n",
      "8  charizardmegay           6       0         0       1       0       0     0   \n",
      "9        squirtle           7       0         0       0       0       0     0   \n",
      "\n",
      "   bug  ghost  steel  fire  water  grass  electric  psychic  ice  dragon  \\\n",
      "0    0      0      0     0      0      1         0        0    0       0   \n",
      "1    0      0      0     0      0      1         0        0    0       0   \n",
      "2    0      0      0     0      0      1         0        0    0       0   \n",
      "3    0      0      0     0      0      1         0        0    0       0   \n",
      "4    0      0      0     1      0      0         0        0    0       0   \n",
      "5    0      0      0     1      0      0         0        0    0       0   \n",
      "6    0      0      0     1      0      0         0        0    0       0   \n",
      "7    0      0      0     1      0      0         0        0    0       1   \n",
      "8    0      0      0     1      0      0         0        0    0       0   \n",
      "9    0      0      0     0      1      0         0        0    0       0   \n",
      "\n",
      "   dark  fairy  \n",
      "0     0      0  \n",
      "1     0      0  \n",
      "2     0      0  \n",
      "3     0      0  \n",
      "4     0      0  \n",
      "5     0      0  \n",
      "6     0      0  \n",
      "7     0      0  \n",
      "8     0      0  \n",
      "9     0      0  \n",
      "None\n"
     ]
    }
   ],
   "source": [
    "#TEST_CODE\n",
    "\n",
    "\n",
    "\n",
    "\n",
    "pkm_list = list(pokedex.keys())[0:10]\n",
    "\n",
    "row_list = []\n",
    "\n",
    "keys = [\"pokemon\",\"dex_number\",\"normal\",\"fighting\",\"flying\",\"poison\",\"ground\",\"rock\",\"bug\",\"ghost\",\"steel\",\"fire\",\n",
    "    \"water\",\"grass\",\"electric\",\"psychic\",\"ice\",\"dragon\",\"dark\",\"fairy\"]\n",
    "corr_num = [\"\"]+[0]*(len(keys)-1)\n",
    "\n",
    "for pkm in pkm_list:\n",
    "\n",
    "    row_dict = dict(zip(keys, corr_num))\n",
    "\n",
    "    row_dict[\"pokemon\"] = pkm\n",
    "    row_dict[\"dex_number\"] = pokedex[pkm][\"num\"]\n",
    "    \n",
    "    for t in (t.lower() for t in pokedex[pkm][\"types\"]):\n",
    "            row_dict[t] = 1\n",
    "    \n",
    "    row_list.append(row_dict)\n",
    "    \n",
    "df = pd.DataFrame(row_list,columns=keys)\n",
    "print(df)\n",
    "writeable_df = df.to_csv(\"testdf.csv\",encoding=\"utf-8\",index=False)\n",
    "print(writeable_df)\n"
   ]
  },
  {
   "cell_type": "code",
   "execution_count": 68,
   "metadata": {},
   "outputs": [
    {
     "name": "stdout",
     "output_type": "stream",
     "text": [
      "['Fire']\n",
      "18\n",
      "18\n",
      "{'normal': 2, 'fighting': 3, 'flying': 4, 'poison': 5, 'ground': 6, 'rock': 7, 'bug': 8, 'ghost': 9, 'steel': 10, 'fire': 11, 'water': 12, 'grass': 13, 'electric': 14, 'psychic': 15, 'ice': 16, 'dragon': 17, 'dark': 18, 'fairy': 19}\n",
      "Empty DataFrame\n",
      "Columns: [Pokemon, DexNum, normal, fighting, flying, poison, ground, rock, bug, ghost, steel, fire, water, grass, electric, psychic, ice, dragon, dark, fairy]\n",
      "Index: []\n"
     ]
    }
   ],
   "source": [
    "#TEST CODE\n",
    "\n",
    "print(pokedex[\"magby\"][\"types\"])\n",
    "types = [\"normal\",\"fighting\",\"flying\",\"poison\",\"ground\",\"rock\",\"bug\",\"ghost\",\"steel\",\"fire\",\n",
    "        \"water\",\"grass\",\"electric\",\"psychic\",\"ice\",\"dragon\",\"dark\",\"fairy\"]\n",
    "corr_num = range(2,len(types)+2)\n",
    "print(len(types))\n",
    "print(len(corr_num))\n",
    "\n",
    "pkm_types_dict = {}\n",
    "for i in range(0,len(types)):\n",
    "    pkm_types_dict[types[i]] = corr_num[i]\n",
    "\n",
    "print(pkm_types_dict)\n",
    "\n",
    "df = pd.DataFrame(columns=[\"Pokemon\",\"DexNum\"]+types)\n",
    "\n",
    "print(df)"
   ]
  },
  {
   "cell_type": "code",
   "execution_count": 12,
   "metadata": {},
   "outputs": [
    {
     "name": "stdout",
     "output_type": "stream",
     "text": [
      "/home/tariq/PokemonTypeNN/sprites/bw/mandibuzz.png\n"
     ]
    },
    {
     "data": {
      "image/png": "[encoded data removed]",
      "text/plain": [
       "<Figure size 2100x2100 with 2 Axes>"
      ]
     },
     "metadata": {
      "needs_background": "light"
     },
     "output_type": "display_data"
    }
   ],
   "source": [
    "#TEST\n",
    "\n",
    "main_folder = os.getcwd()\n",
    "full_test_path = os.path.join(main_folder,\"sprites\",\"bw\",\"mandibuzz.png\")\n",
    "print(full_test_path)\n",
    "test_img = mpimg.imread(full_test_path)\n",
    "\n",
    "rows = 14\n",
    "cols = 14\n",
    "\n",
    "plt.figure(figsize=(rows,cols),dpi=150)\n",
    "plt.subplot(rows,cols,1)\n",
    "plt.imshow(test_img)\n",
    "\n",
    "resize_test_img = center_and_resize(test_img)\n",
    "plt.subplot(rows,cols,2)\n",
    "plt.imshow(resize_test_img)\n",
    "\n",
    "plt.show()"
   ]
  },
  {
   "cell_type": "code",
   "execution_count": 13,
   "metadata": {},
   "outputs": [
    {
     "data": {
      "image/png": "[encoded data removed]",
      "text/plain": [
       "<Figure size 1152x1728 with 7 Axes>"
      ]
     },
     "metadata": {
      "needs_background": "light"
     },
     "output_type": "display_data"
    },
    {
     "data": {
      "text/plain": [
       "<matplotlib.image.AxesImage at 0x7fca9aa467f0>"
      ]
     },
     "execution_count": 13,
     "metadata": {},
     "output_type": "execute_result"
    },
    {
     "data": {
      "image/png": "[encoded data removed]",
      "text/plain": [
       "<Figure size 432x288 with 1 Axes>"
      ]
     },
     "metadata": {
      "needs_background": "light"
     },
     "output_type": "display_data"
    }
   ],
   "source": [
    "#TEST\n",
    "\n",
    "resize_test_img = center_and_resize(test_img, plot=True)\n",
    "plt.imshow(resize_test_img)"
   ]
  },
  {
   "cell_type": "code",
   "execution_count": null,
   "metadata": {},
   "outputs": [],
   "source": []
  }
 ],
 "metadata": {
  "kernelspec": {
   "display_name": "Python 3",
   "language": "python",
   "name": "python3"
  },
  "language_info": {
   "codemirror_mode": {
    "name": "ipython",
    "version": 3
   },
   "file_extension": ".py",
   "mimetype": "text/x-python",
   "name": "python",
   "nbconvert_exporter": "python",
   "pygments_lexer": "ipython3",
   "version": "3.7.3"
  }
 },
 "nbformat": 4,
 "nbformat_minor": 2
}
