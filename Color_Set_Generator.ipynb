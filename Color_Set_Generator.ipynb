{
 "cells": [
  {
   "cell_type": "code",
   "execution_count": 56,
   "metadata": {},
   "outputs": [],
   "source": [
    "#Image reading, writing, and plotting\n",
    "import matplotlib.image as mpimg\n",
    "import matplotlib.pyplot as plt\n",
    "\n",
    "#Numpy\n",
    "import numpy as np\n",
    "\n",
    "#File management\n",
    "import pandas as pd\n",
    "import os\n",
    "import json\n",
    "\n",
    "#Extract Colors\n",
    "import colorgram\n",
    "\n",
    "#Random\n",
    "import random\n",
    "\n",
    "%matplotlib inline"
   ]
  },
  {
   "cell_type": "code",
   "execution_count": 57,
   "metadata": {},
   "outputs": [],
   "source": [
    "with open(\"pokedex.json\") as xyz:\n",
    "    pokedex = json.load(xyz)"
   ]
  },
  {
   "cell_type": "markdown",
   "metadata": {},
   "source": [
    "# Select which folders to convert (or all of them) and number of colors"
   ]
  },
  {
   "cell_type": "code",
   "execution_count": 58,
   "metadata": {},
   "outputs": [
    {
     "name": "stdout",
     "output_type": "stream",
     "text": [
      "folders to convert ::  ['rby', 'gsc']\n",
      "number of colors in 1-hot Vector ::  5\n"
     ]
    }
   ],
   "source": [
    "data_folder = os.path.join(os.getcwd(), \"data\")\n",
    "\n",
    "#Automatically converts every single folder\n",
    "all_gen_folders = sorted([f for f in os.listdir(data_folder) if (not f.startswith(\".\") and \n",
    "                              os.path.isdir(os.path.join(data_folder, f)))])\n",
    "# !! ALTERNATIVE !!: \n",
    "# Uncomment the below line to automatically convert only the specified folders\n",
    "all_gen_folders = [\"rby\", \"gsc\"]\n",
    "\n",
    "num_colors = 5\n",
    "\n",
    "print(\"folders to convert :: \", all_gen_folders)\n",
    "print(\"number of colors in 1-hot Vector :: \", num_colors)"
   ]
  },
  {
   "cell_type": "code",
   "execution_count": 59,
   "metadata": {},
   "outputs": [
    {
     "name": "stdout",
     "output_type": "stream",
     "text": [
      "***********************************************\n",
      "rby\n",
      "***********************************************\n",
      "Completed generating the 1-Hot Vectors for folder ::  rby\n",
      "***********************************************\n",
      "gsc\n",
      "***********************************************\n",
      "Completed generating the 1-Hot Vectors for folder ::  gsc\n"
     ]
    }
   ],
   "source": [
    "#Establish what the columns of the dictionary are going to be\n",
    "#And initialize the values\n",
    "row_keys = [\"pokemon\",\"dex_number\"]\n",
    "for i in range(num_colors):\n",
    "    row_keys.append(\"red\"       +str(i))\n",
    "    row_keys.append(\"blue\"      +str(i))\n",
    "    row_keys.append(\"green\"     +str(i))\n",
    "for i in range(num_colors):\n",
    "    row_keys.append(\"proportion\"+str(i))\n",
    "row_vals = [\"\"] + [0] + ([0] * (4*num_colors) )\n",
    "\n",
    "\n",
    "for gen_folder in all_gen_folders:\n",
    "    print(\"***********************************************\")\n",
    "    print(gen_folder)\n",
    "    print(\"***********************************************\")\n",
    "    data_gen_folder = os.path.join(data_folder, gen_folder)\n",
    "    \n",
    "    ###\n",
    "    # gather pokeon\n",
    "    #\n",
    "    pkm_img_list = [pkm for pkm in os.listdir(data_gen_folder) if pkm.endswith(\".png\")]\n",
    "    \n",
    "    ###\n",
    "    # Create csv list (has rows of Pokemon, num, and [types]). Each row is a dictionary\n",
    "    ###\n",
    "    csv_list = []\n",
    "    \n",
    "    for pkm_img_str in pkm_img_list:\n",
    "        data_pkm_loc = os.path.join(data_gen_folder, pkm_img_str)\n",
    "        pkm_string = pkm_img_str[0:pkm_img_str.index(\".png\")] #Pokemon's name without .png\n",
    "        row_dict = dict(zip(row_keys, row_vals))\n",
    "        \n",
    "        #Extract the colors\n",
    "        #Note:: Don't include the most prominent color, since it's the background\n",
    "        colors = colorgram.extract(data_pkm_loc, num_colors+1)[1:] \n",
    "        \n",
    "        #Save to the row dictionary\n",
    "        row_dict[\"pokemon\"] = pkm_img_str\n",
    "        row_dict[\"dex_number\"] = pokedex[pkm_string][\"num\"]\n",
    "        for i in range(num_colors):\n",
    "            row_dict[\"red\"+str(i)], row_dict[\"blue\"+str(i)], row_dict[\"green\"+str(i)] = colors[i].rgb\n",
    "            row_dict[\"proportion\"+str(i)] = np.round(colors[i].proportion,4)\n",
    "        \n",
    "        #Add the row to the csv list (essentially the dataframe)\n",
    "        csv_list.append(row_dict)\n",
    "        \n",
    "    df = pd.DataFrame(csv_list, columns=row_keys)\n",
    "    df.sort_values(\"dex_number\", inplace=True, ascending=True)\n",
    "    writeable_df = df.to_csv(os.path.join(data_gen_folder, \"aa_master_feature_list.csv\"), encoding=\"utf-8\", index=False)\n",
    "    print(\"Completed generating the 1-Hot Vectors for folder :: \", gen_folder)\n",
    "\n",
    "print(\"Finishing generating all indicated 1-hot CSV files\")"
   ]
  },
  {
   "cell_type": "markdown",
   "metadata": {},
   "source": [
    "# Generate Train/Test Set"
   ]
  },
  {
   "cell_type": "code",
   "execution_count": 92,
   "metadata": {},
   "outputs": [
    {
     "name": "stdout",
     "output_type": "stream",
     "text": [
      "Folders to be used ::  ['gsc', 'rby', 'xydex']\n"
     ]
    }
   ],
   "source": [
    "data_folder = os.path.join(os.getcwd(), \"data\")\n",
    "\n",
    "#Automatically converts every single folder that has the 1-hot vectors\n",
    "all_set_gen_folders = sorted([f for f in os.listdir(data_folder) if (not f.startswith(\".\") and \n",
    "                              os.path.isdir(os.path.join(data_folder, f)) and\n",
    "                              os.path.isfile(os.path.join(data_folder, f, \"aa_master_feature_list.csv\")))])\n",
    "# !! ALTERNATIVE !!: \n",
    "# Uncomment the below line to automatically convert only the specified folders\n",
    "# all_set_gen_folders = [\"xydex\"]\n",
    "\n",
    "print(\"Folders to be used :: \",all_set_gen_folders)"
   ]
  },
  {
   "cell_type": "code",
   "execution_count": 93,
   "metadata": {},
   "outputs": [],
   "source": [
    "method = {}\n",
    "method[\"method\"] = \"gen\"\n",
    "#num indicates the test set generation\n",
    "method[\"num\"] = 7\n",
    "#dev_prob is the percentage of images put into the dev set\n",
    "method[\"dev_prob\"] = 0.0\n",
    "\n",
    "#Puts the image into the dev set based on teh probability set above\n",
    "def putInDev(probability):\n",
    "    return random.random() < probability"
   ]
  },
  {
   "cell_type": "code",
   "execution_count": 97,
   "metadata": {},
   "outputs": [
    {
     "name": "stdout",
     "output_type": "stream",
     "text": [
      "Succesfully finished generating Train_hot.csv, Dev_hot.csv and Test_hot.csv\n",
      "Train_hot.csv has  1336 images\n",
      "Dev_hot.csv has  0  images\n",
      "Test_hot.csv has  124  images\n"
     ]
    }
   ],
   "source": [
    "train_list = []\n",
    "test_list = []\n",
    "dev_list = []\n",
    "\n",
    "dev_prob = method[\"dev_prob\"]\n",
    "\n",
    "for folder in all_set_gen_folders:\n",
    "    gen_folder = os.path.join(data_folder, folder)\n",
    "    \n",
    "    #Read the master list csv file from each folder\n",
    "    #Merge the two csv files\n",
    "    #Then convert the csv files into a list of dictionaries for easy manipulation\n",
    "    gen_df = pd.read_csv(os.path.join(gen_folder, \"aa_masterlist.csv\"))\n",
    "    hot_df = pd.read_csv(os.path.join(gen_folder, \"aa_master_feature_list.csv\"))\n",
    "    #Check that gen_df and hot_df have the same length\n",
    "    if(len(gen_df) != len(hot_df)):\n",
    "        raise ValueError(gen_folder+\" does not have equal row lengths in aa_master_feature_list.csv and aa_masterlist.csv\")\n",
    "    new_df = pd.concat([gen_df, hot_df.iloc[:, 2:]], axis=1)\n",
    "    df_list = new_df.to_dict(orient=\"records\")\n",
    "    \n",
    "    #Use the \"gen\" criteria to determine the train/test split\n",
    "    if(method[\"method\"]==\"gen\"):\n",
    "        if(method[\"method\"] == \"gen\"):\n",
    "        #Gen numbers represent the bounds of the pokedex numbers (check bulbapedia, ya nerd)\n",
    "            num = method[\"num\"]\n",
    "            #Note: bounds are inclusive\n",
    "            if num == 1:\n",
    "                min_bnd = 1\n",
    "                max_bnd = 151\n",
    "\n",
    "            elif num == 2:\n",
    "                min_bnd = 152\n",
    "                max_bnd = 251\n",
    "\n",
    "            elif num == 3:\n",
    "                min_bnd = 252\n",
    "                max_bnd = 386\n",
    "\n",
    "            elif num == 4:\n",
    "                min_bnd = 387\n",
    "                max_bnd = 493\n",
    "\n",
    "            elif num == 5:\n",
    "                min_bnd = 494\n",
    "                max_bnd = 649\n",
    "\n",
    "            elif num == 6:\n",
    "                min_bnd = 650\n",
    "                max_bnd = 721\n",
    "\n",
    "            elif num == 7:\n",
    "                min_bnd = 722\n",
    "                max_bnd = 809\n",
    "\n",
    "            else:\n",
    "                print(\"This generation doesn't exist at the time of the creation of this code\")\n",
    "                print(\"Please manually add the generation index to the if/else case\")\n",
    "                raise ValueError(\"The Generation doesn't exist\")\n",
    "\n",
    "            #Add the row to the respective train, test, or dev list\n",
    "            for i in range(0, len(df_list)):\n",
    "                df_list[i][\"pokemon\"] = os.path.join(gen_folder, df_list[i][\"pokemon\"])\n",
    "                dex_num = df_list[i][\"dex_number\"]\n",
    "\n",
    "                if dex_num >= min_bnd and dex_num <= max_bnd:\n",
    "                    test_list.append(df_list[i])\n",
    "                else:\n",
    "                    if putInDev(dev_prob):\n",
    "                        dev_list.append(df_list[i])\n",
    "                    else:\n",
    "                        train_list.append(df_list[i])\n",
    "\n",
    "                    \n",
    "                    \n",
    "#Convert the lists into pandas dataframes, and then write to the /data folder\n",
    "train_df = pd.DataFrame(train_list, columns=list(new_df))\n",
    "train_df.sort_values(\"dex_number\", inplace = True, ascending = True)\n",
    "write_train = train_df.to_csv(os.path.join(data_folder, \"Train_hot.csv\"), encoding=\"utf-8\", index=False)\n",
    "\n",
    "test_df = pd.DataFrame(test_list, columns=list(new_df))\n",
    "test_df.sort_values(\"dex_number\", inplace = True, ascending = True)\n",
    "write_test = test_df.to_csv(os.path.join(data_folder, \"Test_hot.csv\"), encoding=\"utf-8\", index=False)\n",
    "\n",
    "dev_df = pd.DataFrame(dev_list, columns=list(new_df))\n",
    "dev_df.sort_values(\"dex_number\", inplace = True, ascending = True)\n",
    "write_dev = dev_df.to_csv(os.path.join(data_folder, \"Dev_hot.csv\"), encoding=\"utf-8\", index=False)\n",
    "\n",
    "print(\"Succesfully finished generating Train_hot.csv, Dev_hot.csv and Test_hot.csv\")\n",
    "print(\"Train_hot.csv has \", len(train_list), \"images\")\n",
    "print(\"Dev_hot.csv has \", len(dev_list), \" images\")\n",
    "print(\"Test_hot.csv has \", len(test_list), \" images\")"
   ]
  },
  {
   "cell_type": "markdown",
   "metadata": {},
   "source": [
    "# Test a Dataset"
   ]
  },
  {
   "cell_type": "code",
   "execution_count": 88,
   "metadata": {},
   "outputs": [
    {
     "name": "stdout",
     "output_type": "stream",
     "text": [
      "1058\n"
     ]
    }
   ],
   "source": [
    "# df = pd.read_csv(os.path.join(data_folder, \"xydex\",\"aa_master_feature_list.csv\"))\n",
    "# print(df.iloc[0])\n",
    "# print(df.iloc[177])\n",
    "# print(df.iloc[752])\n",
    "#df.loc[df[\"pokemon\"]==\"magmar.png\"].dex_number == 127\n",
    "\n",
    "some_folder = os.path.join(os.getcwd(), \"data\", \"xydex\")\n",
    "\n",
    "gen_df = pd.read_csv(os.path.join(some_folder, \"aa_masterlist.csv\"))\n",
    "hot_df = pd.read_csv(os.path.join(some_folder, \"aa_master_feature_list.csv\"))\n",
    "new_df = pd.concat([gen_df, hot_df.iloc[:,2:]], axis=1)\n",
    "print(len(new_df))\n",
    "# gen_list = gen_df.to_dict(orient=\"records\")\n",
    "\n",
    "# #includes the information\n",
    "\n",
    "# hot_list = hot_df.to_dict(orient=\"records\")"
   ]
  },
  {
   "cell_type": "code",
   "execution_count": null,
   "metadata": {},
   "outputs": [],
   "source": []
  }
 ],
 "metadata": {
  "kernelspec": {
   "display_name": "Python 3",
   "language": "python",
   "name": "python3"
  },
  "language_info": {
   "codemirror_mode": {
    "name": "ipython",
    "version": 3
   },
   "file_extension": ".py",
   "mimetype": "text/x-python",
   "name": "python",
   "nbconvert_exporter": "python",
   "pygments_lexer": "ipython3",
   "version": "3.7.3"
  }
 },
 "nbformat": 4,
 "nbformat_minor": 2
}
